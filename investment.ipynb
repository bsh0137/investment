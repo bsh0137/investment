{
  "nbformat": 4,
  "nbformat_minor": 0,
  "metadata": {
    "colab": {
      "name": "investment.ipynb",
      "provenance": [],
      "collapsed_sections": [],
      "authorship_tag": "ABX9TyNv2w/Y2Qj0aTeiAo4nfFDz",
      "include_colab_link": true
    },
    "kernelspec": {
      "name": "python3",
      "display_name": "Python 3"
    }
  },
  "cells": [
    {
      "cell_type": "markdown",
      "metadata": {
        "id": "view-in-github",
        "colab_type": "text"
      },
      "source": [
        "<a href=\"https://colab.research.google.com/github/bsh0137/investment/blob/master/investment.ipynb\" target=\"_parent\"><img src=\"https://colab.research.google.com/assets/colab-badge.svg\" alt=\"Open In Colab\"/></a>"
      ]
    },
    {
      "cell_type": "code",
      "metadata": {
        "id": "aQCV7JaAqTSY",
        "outputId": "e56f2f4e-6e22-4986-9696-77b71c211c86",
        "colab": {
          "base_uri": "https://localhost:8080/"
        }
      },
      "source": [
        "from oauth2client.service_account import ServiceAccountCredentials\n",
        "import gspread\n",
        "import tensorflow as tf\n",
        "\n",
        "import pandas as pd\n",
        "import numpy as np\n",
        "import datetime\n",
        "from matplotlib import pyplot as plt"
      ],
      "execution_count": 2,
      "outputs": [
        {
          "output_type": "stream",
          "text": [
            "Hello World\n"
          ],
          "name": "stdout"
        }
      ]
    },
    {
      "cell_type": "code",
      "metadata": {
        "id": "dgSBsQeXvuh5",
        "outputId": "c2459793-95c2-4ce7-8ed5-f402cd9e65b4",
        "colab": {
          "base_uri": "https://localhost:8080/"
        }
      },
      "source": [
        "from google.colab import drive\n",
        "\n",
        "drive.mount('/content/gdrive')"
      ],
      "execution_count": 15,
      "outputs": [
        {
          "output_type": "stream",
          "text": [
            "Mounted at /content/gdrive\n"
          ],
          "name": "stdout"
        }
      ]
    },
    {
      "cell_type": "code",
      "metadata": {
        "id": "PigTiyY_q2w3"
      },
      "source": [
        "# 데이터 불러오기\n",
        "def get_data(main_sheet_name, sheet_name):\n",
        "    scope = ['https://spreadsheets.google.com/feeds',\n",
        "            'https://www.googleapis.com/auth/drive']\n",
        "    credentials = ServiceAccountCredentials.from_json_keyfile_name(\n",
        "            '/content/gdrive/My Drive/Colab_Notebooks/invest-292113-cd0f11733463.json', scope)\n",
        "    gc = gspread.authorize(credentials)\n",
        "\n",
        "    gc1 = gc.open(main_sheet_name).worksheet(sheet_name)\n",
        "    gc2 = gc1.get_all_values()\n",
        "    data = pd.DataFrame(gc2[1:], columns = gc2[0])\n",
        "    return data"
      ],
      "execution_count": 16,
      "outputs": []
    },
    {
      "cell_type": "code",
      "metadata": {
        "id": "Q2AsffDarB0v"
      },
      "source": [
        "# Data 전처리\n",
        "def preprocess(data):\n",
        "    for i in range(len(data)):\n",
        "        year = int(data[\"Date\"][i].split(\".\")[0])\n",
        "        month = int(data[\"Date\"][i].split(\".\")[1])\n",
        "        date = int(data[\"Date\"][i].split(\".\")[2].split(\" \")[1])\n",
        "        data['Date'][i] = datetime.date(year, month, date)\n",
        "    return data"
      ],
      "execution_count": 4,
      "outputs": []
    },
    {
      "cell_type": "code",
      "metadata": {
        "id": "qG8uLNlZrCIn"
      },
      "source": [
        "def show_graph(data, title_name, interaval = 1):\n",
        "    condition1 = data['Date'] >= datetime.date(2020,1,1)\n",
        "\n",
        "    plt.title(title_name)\n",
        "    plt.ylabel(title_name)\n",
        "    plt.xlabel(\"Date\")\n",
        "    plt.plot(data['Date'][condition1], data['Close'][condition1].astype(float), color= 'k')   "
      ],
      "execution_count": 5,
      "outputs": []
    },
    {
      "cell_type": "code",
      "metadata": {
        "id": "LDGPre1yrCPb"
      },
      "source": [
        "# 데이터 train/test 셋으로 나누기\n",
        "def MinMaxScaler(data):\n",
        "    numerator = data - np.min(data,0)\n",
        "    denominator = np.max(data,0) - np.min(data,0)\n",
        "    return numerator / (denomantor + 1e-7)"
      ],
      "execution_count": 6,
      "outputs": []
    },
    {
      "cell_type": "code",
      "metadata": {
        "id": "xs0MtzHhrIxA",
        "outputId": "685d895c-bbb2-4a7a-d3b6-a92f808a3bdc",
        "colab": {
          "base_uri": "https://localhost:8080/"
        }
      },
      "source": [
        "data = get_data('finance_data', 'KOSPI')\n",
        "data = data['Close']\n",
        "print(data)"
      ],
      "execution_count": 17,
      "outputs": [
        {
          "output_type": "stream",
          "text": [
            "0       1889.91\n",
            "1       1868.04\n",
            "2       1876.15\n",
            "3       1899.76\n",
            "4       1902.29\n",
            "         ...   \n",
            "2468    2343.91\n",
            "2469    2330.84\n",
            "2470    2345.26\n",
            "2471    2326.67\n",
            "2472    2267.15\n",
            "Name: Close, Length: 2473, dtype: object\n"
          ],
          "name": "stdout"
        }
      ]
    },
    {
      "cell_type": "code",
      "metadata": {
        "id": "K_Pmlm6hrJE4"
      },
      "source": [
        ""
      ],
      "execution_count": null,
      "outputs": []
    },
    {
      "cell_type": "code",
      "metadata": {
        "id": "jUfIde62rIr2"
      },
      "source": [
        ""
      ],
      "execution_count": null,
      "outputs": []
    }
  ]
}